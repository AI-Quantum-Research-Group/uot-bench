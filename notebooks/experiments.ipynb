{
 "cells": [
  {
   "cell_type": "markdown",
   "id": "c4d3f0d3",
   "metadata": {},
   "source": [
    "### Add uot package to path"
   ]
  },
  {
   "cell_type": "code",
   "execution_count": null,
   "id": "af3234d7",
   "metadata": {},
   "outputs": [],
   "source": [
    "import sys\n",
    "import os\n",
    "\n",
    "sibling_path = os.path.abspath(os.path.join(os.getcwd(), '..', '.'))\n",
    "\n",
    "if sibling_path not in sys.path:\n",
    "    sys.path.insert(0, sibling_path)\n"
   ]
  },
  {
   "cell_type": "markdown",
   "id": "ecbdaa8d",
   "metadata": {},
   "source": [
    "# OT experiments"
   ]
  },
  {
   "cell_type": "markdown",
   "id": "0e1ac7a4",
   "metadata": {},
   "source": [
    "Configure jax"
   ]
  },
  {
   "cell_type": "code",
   "execution_count": null,
   "id": "5f21d4ae",
   "metadata": {},
   "outputs": [],
   "source": [
    "import jax\n",
    "jax.config.update(\"jax_enable_x64\", True)"
   ]
  },
  {
   "cell_type": "markdown",
   "id": "ef3a193e",
   "metadata": {},
   "source": [
    "all necessary imports"
   ]
  },
  {
   "cell_type": "code",
   "execution_count": null,
   "id": "621b0340",
   "metadata": {},
   "outputs": [],
   "source": [
    "from uot.algorithms.sinkhorn import jax_sinkhorn\n",
    "from uot.algorithms.gradient_ascent import gradient_ascent\n",
    "from uot.algorithms.lbfgs import lbfgs_ot\n",
    "from uot.algorithms.lp import pot_lp\n",
    "from uot.core.experiment import run_experiment\n",
    "from uot.core.suites import time_precision_experiment"
   ]
  },
  {
   "cell_type": "markdown",
   "id": "d71570ae",
   "metadata": {},
   "source": [
    "Define solvers and their params"
   ]
  },
  {
   "cell_type": "code",
   "execution_count": null,
   "id": "c6bd3276",
   "metadata": {},
   "outputs": [],
   "source": [
    "epsilon_kwargs = [\n",
    "    {'epsilon': 100},\n",
    "    {'epsilon': 10},\n",
    "    {'epsilon': 1},\n",
    "    {'epsilon': 1e-1},\n",
    "    {'epsilon': 1e-3},\n",
    "    {'epsilon': 1e-6},\n",
    "    {'epsilon': 1e-9},\n",
    "]\n",
    "\n",
    "solvers = {\n",
    "    'pot-lp': (pot_lp, []),\n",
    "    'lbfgs': (lbfgs_ot, epsilon_kwargs),\n",
    "    'jax-sinkhorn': (jax_sinkhorn, epsilon_kwargs),\n",
    "    'grad-ascent': (gradient_ascent, [ # grad ascent works really bad for big regularizations\n",
    "                                    {'epsilon': 1},\n",
    "                                    {'epsilon': 1e-1},\n",
    "                                    {'epsilon': 1e-3},\n",
    "                                    {'epsilon': 1e-6},\n",
    "                                    # {'epsilon': 1e-9},\n",
    "                                    ]),\n",
    "}\n",
    "\n",
    "# algorithms that use jax jit \n",
    "jit_algorithms = [\n",
    "    'jax-sinkhorn', 'optax-grad-ascent', 'lbfgs'\n",
    "]\n"
   ]
  },
  {
   "cell_type": "markdown",
   "id": "4bb097cb",
   "metadata": {},
   "source": [
    "Define problemset:"
   ]
  },
  {
   "cell_type": "code",
   "execution_count": null,
   "id": "2572a501",
   "metadata": {},
   "outputs": [],
   "source": [
    "problemset_names = [\n",
    "    ('distribution', \"gamma\", 32),\n",
    "    ('distribution', \"gamma\", 64),\n",
    "    ('distribution', \"gamma\", 256),\n",
    "    ('distribution', \"gamma\", 512),\n",
    "    ('distribution', \"gamma\", 1024),\n",
    "    ('distribution', \"gamma\", 2048),\n",
    "\n",
    "    ('distribution', \"gaussian\", 32),\n",
    "    ('distribution', \"gaussian\", 64),\n",
    "    ('distribution', \"gaussian\", 256),\n",
    "    ('distribution', \"gaussian\", 512),\n",
    "    ('distribution', \"gaussian\", 1024),\n",
    "    ('distribution', \"gaussian\", 2048),\n",
    "\n",
    "    ('distribution', \"beta\", 32),\n",
    "    ('distribution', \"beta\", 64),\n",
    "    ('distribution', \"beta\", 256),\n",
    "    ('distribution', \"beta\", 512),\n",
    "    ('distribution', \"beta\", 1024),\n",
    "    ('distribution', \"beta\", 2048),\n",
    "\n",
    "    ('distribution', \"gaussian|gamma|beta|cauchy\", 32),\n",
    "    ('distribution', \"gaussian|gamma|beta|cauchy\", 64),\n",
    "    ('distribution', \"gaussian|gamma|beta|cauchy\", 128),\n",
    "    ('distribution', \"gaussian|gamma|beta|cauchy\", 256),\n",
    "    ('distribution', \"gaussian|gamma|beta|cauchy\", 512),\n",
    "    ('distribution', \"gaussian|gamma|beta|cauchy\", 1024),\n",
    "    ('distribution', \"gaussian|gamma|beta|cauchy\", 2048),\n",
    "\n",
    "]"
   ]
  },
  {
   "cell_type": "markdown",
   "id": "03e177f5",
   "metadata": {},
   "source": [
    "Run experiment:"
   ]
  },
  {
   "cell_type": "code",
   "execution_count": null,
   "id": "d01681d7",
   "metadata": {},
   "outputs": [],
   "source": [
    "df = run_experiment(experiment=time_precision_experiment, \n",
    "                    problemsets_names=problemset_names,\n",
    "                    solvers=solvers,\n",
    "                    jit_algorithms=jit_algorithms,\n",
    "                    folds=1)"
   ]
  },
  {
   "cell_type": "markdown",
   "id": "433de23a",
   "metadata": {},
   "source": [
    "Save data:"
   ]
  },
  {
   "cell_type": "code",
   "execution_count": null,
   "id": "e7826f9c",
   "metadata": {},
   "outputs": [],
   "source": [
    "df.to_csv(\"ot_experiments.csv\")"
   ]
  }
 ],
 "metadata": {
  "kernelspec": {
   "display_name": "ml",
   "language": "python",
   "name": "python3"
  },
  "language_info": {
   "codemirror_mode": {
    "name": "ipython",
    "version": 3
   },
   "file_extension": ".py",
   "mimetype": "text/x-python",
   "name": "python",
   "nbconvert_exporter": "python",
   "pygments_lexer": "ipython3",
   "version": "3.12.3"
  }
 },
 "nbformat": 4,
 "nbformat_minor": 5
}
