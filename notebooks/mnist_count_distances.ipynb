{
 "cells": [
  {
   "cell_type": "code",
   "execution_count": null,
   "id": "1f695ffb",
   "metadata": {},
   "outputs": [],
   "source": [
    "import sys\n",
    "import os\n",
    "\n",
    "sibling_path = os.path.abspath(os.path.join(os.getcwd(), '..', '.'))\n",
    "\n",
    "if sibling_path not in sys.path:\n",
    "    sys.path.insert(0, sibling_path)\n",
    "\n",
    "import os\n",
    "os.environ[\"JAX_PLATFORM_NAME\"] = \"cpu\"\n",
    "\n",
    "import jax\n",
    "jax.config.update(\"jax_enable_x64\", True)\n",
    "\n",
    "import ot\n",
    "import numpy as np\n",
    "\n",
    "import multiprocessing as mp\n",
    "mp.set_start_method('spawn')\n",
    "\n",
    "from sklearn.datasets import load_digits\n",
    "\n",
    "from uot.algorithms.sinkhorn import jax_sinkhorn\n",
    "from uot.algorithms.gradient_ascent import gradient_ascent\n",
    "from uot.algorithms.lbfgs import lbfgs_ot\n",
    "from uot.algorithms.lp import pot_lp\n",
    "\n",
    "from uot.mnist_classification.count_pairwise_distances import compute_distances_for_all_solvers"
   ]
  },
  {
   "cell_type": "markdown",
   "id": "28691682",
   "metadata": {},
   "source": [
    "Prepare data"
   ]
  },
  {
   "cell_type": "code",
   "execution_count": null,
   "id": "3ea2a2d7",
   "metadata": {},
   "outputs": [],
   "source": [
    "digits = load_digits()\n",
    "X, _ = digits.data, digits.target\n",
    "X = X / X.sum(axis=1).reshape(X.shape[0],1) + 1e-12\n",
    "\n",
    "row, col = np.arange(8), np.arange(8)\n",
    "row, col = np.meshgrid(row, col)\n",
    "points = np.vstack([coordinate.ravel() for coordinate in [row, col]]).T\n",
    "C = ot.dist(points, points).astype('float64')\n",
    "C /= C.max()\n"
   ]
  },
  {
   "cell_type": "markdown",
   "id": "f367a4b1",
   "metadata": {},
   "source": [
    "Prepare solvers"
   ]
  },
  {
   "cell_type": "code",
   "execution_count": null,
   "id": "bbffa2b4",
   "metadata": {},
   "outputs": [],
   "source": [
    "solvers = {\n",
    "    'sinkhorn': jax_sinkhorn,\n",
    "    'grad-ascent': gradient_ascent,\n",
    "    'lbfs': lbfgs_ot,\n",
    "    'lp': pot_lp\n",
    "}\n",
    "\n",
    "epsilons = [1e-1, 1e-2]"
   ]
  },
  {
   "cell_type": "markdown",
   "id": "4624ca32",
   "metadata": {},
   "source": [
    "Run computation"
   ]
  },
  {
   "cell_type": "code",
   "execution_count": null,
   "id": "ef213509",
   "metadata": {},
   "outputs": [
    {
     "name": "stderr",
     "output_type": "stream",
     "text": [
      "Computing all pairwise distances:   1%|          | 68884/11295942 [01:40<3:40:57, 846.84it/s]"
     ]
    }
   ],
   "source": [
    "compute_distances_for_all_solvers(X, C, solvers.keys(), epsilons=epsilons, num_processes=6, max_iter=10000,\n",
    "                                  export_folder=\"../classification\")"
   ]
  }
 ],
 "metadata": {
  "kernelspec": {
   "display_name": "ml",
   "language": "python",
   "name": "python3"
  },
  "language_info": {
   "codemirror_mode": {
    "name": "ipython",
    "version": 3
   },
   "file_extension": ".py",
   "mimetype": "text/x-python",
   "name": "python",
   "nbconvert_exporter": "python",
   "pygments_lexer": "ipython3",
   "version": "3.12.3"
  }
 },
 "nbformat": 4,
 "nbformat_minor": 5
}
