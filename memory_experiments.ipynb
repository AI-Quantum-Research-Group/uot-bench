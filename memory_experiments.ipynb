{
 "cells": [
  {
   "cell_type": "code",
   "execution_count": 1,
   "id": "ac8b20c9",
   "metadata": {},
   "outputs": [
    {
     "name": "stderr",
     "output_type": "stream",
     "text": [
      "2025-04-18 16:15:59.361647: E external/local_xla/xla/stream_executor/cuda/cuda_fft.cc:477] Unable to register cuFFT factory: Attempting to register factory for plugin cuFFT when one has already been registered\n",
      "WARNING: All log messages before absl::InitializeLog() is called are written to STDERR\n",
      "E0000 00:00:1744982159.376658   74042 cuda_dnn.cc:8310] Unable to register cuDNN factory: Attempting to register factory for plugin cuDNN when one has already been registered\n",
      "E0000 00:00:1744982159.381096   74042 cuda_blas.cc:1418] Unable to register cuBLAS factory: Attempting to register factory for plugin cuBLAS when one has already been registered\n"
     ]
    },
    {
     "name": "stdout",
     "output_type": "stream",
     "text": [
      "Jupyter environment detected. Enabling Open3D WebVisualizer.\n",
      "[Open3D INFO] WebRTC GUI backend enabled.\n",
      "[Open3D INFO] WebRTCWindowSystem: HTTP handshake server disabled.\n"
     ]
    }
   ],
   "source": [
    "from uot.suites import time_precision_suite, memory_suite\n",
    "from algorithms.lp import pot_lp\n",
    "from uot.experiment import run_experiment\n",
    "from algorithms.sinkhorn import sinkhorn, ott_jax_sinkhorn, pot_sinkhorn\n",
    "\n",
    "from uot.analysis import display_all_metrics"
   ]
  },
  {
   "cell_type": "code",
   "execution_count": 2,
   "id": "e051afc9",
   "metadata": {},
   "outputs": [],
   "source": [
    "import os\n",
    "import jax\n",
    "os.environ[\"JAX_PLATFORMS\"] = \"cpu\"\n",
    "\n",
    "jax.config.update(\"jax_enable_x64\", True)"
   ]
  },
  {
   "cell_type": "markdown",
   "id": "9a813804",
   "metadata": {},
   "source": [
    "# Memory experiments"
   ]
  },
  {
   "cell_type": "markdown",
   "id": "dec6561a",
   "metadata": {},
   "source": [
    "### Used solvers"
   ]
  },
  {
   "cell_type": "code",
   "execution_count": 3,
   "id": "4c3eea45",
   "metadata": {},
   "outputs": [],
   "source": [
    "solvers = {\n",
    "    'pot-lp': pot_lp,\n",
    "    # 'pot-sinkhorn': pot_sinkhorn,\n",
    "    'ott-jax-sinkhorn': ott_jax_sinkhorn,\n",
    "    'jax-sinkhorn': sinkhorn\n",
    "}"
   ]
  },
  {
   "cell_type": "code",
   "execution_count": 4,
   "id": "9b94548d",
   "metadata": {},
   "outputs": [
    {
     "name": "stdout",
     "output_type": "stream",
     "text": [
      "Data loaded from ./datasets/1D/1000_gaussian.pkl\n",
      "Data loaded from ./datasets/1D/1100_gaussian.pkl\n",
      "Data loaded from ./datasets/1D/1200_gaussian.pkl\n",
      "Data loaded from ./datasets/1D/1500_gaussian.pkl\n"
     ]
    },
    {
     "name": "stderr",
     "output_type": "stream",
     "text": [
      "Running experiments:   0%|          | 0/540 [00:00<?, ?it/s]/usr/lib/python3.12/multiprocessing/popen_fork.py:66: RuntimeWarning: os.fork() was called. os.fork() is incompatible with multithreaded code, and JAX is multithreaded, so this will likely lead to a deadlock.\n",
      "  self.pid = os.fork()\n",
      "/usr/lib/python3.12/multiprocessing/popen_fork.py:66: RuntimeWarning: os.fork() was called. os.fork() is incompatible with multithreaded code, and JAX is multithreaded, so this will likely lead to a deadlock.\n",
      "  self.pid = os.fork()\n",
      "Running experiments: 100%|██████████| 540/540 [04:36<00:00,  1.95it/s]\n"
     ]
    },
    {
     "data": {
      "text/html": [
       "\n",
       "    <h3 style=\"text-align:center;\">memory mean and std</h3>\n",
       "    <div style=\"display: flex; justify-content: space-around;\">\n",
       "        <div><style type=\"text/css\">\n",
       "#T_5ef7c_row0_col1, #T_5ef7c_row1_col1, #T_5ef7c_row2_col1, #T_5ef7c_row3_col1 {\n",
       "  color: white;\n",
       "  font-weight: bold;\n",
       "  background-color: darkblue;\n",
       "}\n",
       "</style>\n",
       "<table id=\"T_5ef7c\">\n",
       "  <thead>\n",
       "    <tr>\n",
       "      <th class=\"blank level0\" >&nbsp;</th>\n",
       "      <th id=\"T_5ef7c_level0_col0\" class=\"col_heading level0 col0\" >dataset</th>\n",
       "      <th id=\"T_5ef7c_level0_col1\" class=\"col_heading level0 col1\" >pot-lp</th>\n",
       "      <th id=\"T_5ef7c_level0_col2\" class=\"col_heading level0 col2\" >ott-jax-sinkhorn</th>\n",
       "      <th id=\"T_5ef7c_level0_col3\" class=\"col_heading level0 col3\" >jax-sinkhorn</th>\n",
       "    </tr>\n",
       "  </thead>\n",
       "  <tbody>\n",
       "    <tr>\n",
       "      <th id=\"T_5ef7c_level0_row0\" class=\"row_heading level0 row0\" >0</th>\n",
       "      <td id=\"T_5ef7c_row0_col0\" class=\"data row0 col0\" >1000 1D gaussian</td>\n",
       "      <td id=\"T_5ef7c_row0_col1\" class=\"data row0 col1\" >1577.390538</td>\n",
       "      <td id=\"T_5ef7c_row0_col2\" class=\"data row0 col2\" >3474.039062</td>\n",
       "      <td id=\"T_5ef7c_row0_col3\" class=\"data row0 col3\" >3524.713889</td>\n",
       "    </tr>\n",
       "    <tr>\n",
       "      <th id=\"T_5ef7c_level0_row1\" class=\"row_heading level0 row1\" >1</th>\n",
       "      <td id=\"T_5ef7c_row1_col0\" class=\"data row1 col0\" >1100 1D gaussian</td>\n",
       "      <td id=\"T_5ef7c_row1_col1\" class=\"data row1 col1\" >1992.177691</td>\n",
       "      <td id=\"T_5ef7c_row1_col2\" class=\"data row1 col2\" >3484.103299</td>\n",
       "      <td id=\"T_5ef7c_row1_col3\" class=\"data row1 col3\" >3525.088455</td>\n",
       "    </tr>\n",
       "    <tr>\n",
       "      <th id=\"T_5ef7c_level0_row2\" class=\"row_heading level0 row2\" >2</th>\n",
       "      <td id=\"T_5ef7c_row2_col0\" class=\"data row2 col0\" >1200 1D gaussian</td>\n",
       "      <td id=\"T_5ef7c_row2_col1\" class=\"data row2 col1\" >2464.224045</td>\n",
       "      <td id=\"T_5ef7c_row2_col2\" class=\"data row2 col2\" >3501.764670</td>\n",
       "      <td id=\"T_5ef7c_row2_col3\" class=\"data row2 col3\" >3530.050781</td>\n",
       "    </tr>\n",
       "    <tr>\n",
       "      <th id=\"T_5ef7c_level0_row3\" class=\"row_heading level0 row3\" >3</th>\n",
       "      <td id=\"T_5ef7c_row3_col0\" class=\"data row3 col0\" >1500 1D gaussian</td>\n",
       "      <td id=\"T_5ef7c_row3_col1\" class=\"data row3 col1\" >3184.119271</td>\n",
       "      <td id=\"T_5ef7c_row3_col2\" class=\"data row3 col2\" >3523.590451</td>\n",
       "      <td id=\"T_5ef7c_row3_col3\" class=\"data row3 col3\" >3539.866319</td>\n",
       "    </tr>\n",
       "  </tbody>\n",
       "</table>\n",
       "</div>\n",
       "        <div><style type=\"text/css\">\n",
       "#T_d7075_row0_col2, #T_d7075_row1_col3, #T_d7075_row2_col3, #T_d7075_row3_col3 {\n",
       "  color: white;\n",
       "  font-weight: bold;\n",
       "  background-color: darkblue;\n",
       "}\n",
       "</style>\n",
       "<table id=\"T_d7075\">\n",
       "  <thead>\n",
       "    <tr>\n",
       "      <th class=\"blank level0\" >&nbsp;</th>\n",
       "      <th id=\"T_d7075_level0_col0\" class=\"col_heading level0 col0\" >dataset</th>\n",
       "      <th id=\"T_d7075_level0_col1\" class=\"col_heading level0 col1\" >pot-lp</th>\n",
       "      <th id=\"T_d7075_level0_col2\" class=\"col_heading level0 col2\" >ott-jax-sinkhorn</th>\n",
       "      <th id=\"T_d7075_level0_col3\" class=\"col_heading level0 col3\" >jax-sinkhorn</th>\n",
       "    </tr>\n",
       "  </thead>\n",
       "  <tbody>\n",
       "    <tr>\n",
       "      <th id=\"T_d7075_level0_row0\" class=\"row_heading level0 row0\" >0</th>\n",
       "      <td id=\"T_d7075_row0_col0\" class=\"data row0 col0\" >1000 1D gaussian</td>\n",
       "      <td id=\"T_d7075_row0_col1\" class=\"data row0 col1\" >100.659306</td>\n",
       "      <td id=\"T_d7075_row0_col2\" class=\"data row0 col2\" >0.000000</td>\n",
       "      <td id=\"T_d7075_row0_col3\" class=\"data row0 col3\" >0.019799</td>\n",
       "    </tr>\n",
       "    <tr>\n",
       "      <th id=\"T_d7075_level0_row1\" class=\"row_heading level0 row1\" >1</th>\n",
       "      <td id=\"T_d7075_row1_col0\" class=\"data row1 col0\" >1100 1D gaussian</td>\n",
       "      <td id=\"T_d7075_row1_col1\" class=\"data row1 col1\" >121.492214</td>\n",
       "      <td id=\"T_d7075_row1_col2\" class=\"data row1 col2\" >1.324754</td>\n",
       "      <td id=\"T_d7075_row1_col3\" class=\"data row1 col3\" >0.043091</td>\n",
       "    </tr>\n",
       "    <tr>\n",
       "      <th id=\"T_d7075_level0_row2\" class=\"row_heading level0 row2\" >2</th>\n",
       "      <td id=\"T_d7075_row2_col0\" class=\"data row2 col0\" >1200 1D gaussian</td>\n",
       "      <td id=\"T_d7075_row2_col1\" class=\"data row2 col1\" >144.264761</td>\n",
       "      <td id=\"T_d7075_row2_col2\" class=\"data row2 col2\" >1.578641</td>\n",
       "      <td id=\"T_d7075_row2_col3\" class=\"data row2 col3\" >0.471671</td>\n",
       "    </tr>\n",
       "    <tr>\n",
       "      <th id=\"T_d7075_level0_row3\" class=\"row_heading level0 row3\" >3</th>\n",
       "      <td id=\"T_d7075_row3_col0\" class=\"data row3 col0\" >1500 1D gaussian</td>\n",
       "      <td id=\"T_d7075_row3_col1\" class=\"data row3 col1\" >225.508727</td>\n",
       "      <td id=\"T_d7075_row3_col2\" class=\"data row3 col2\" >2.223257</td>\n",
       "      <td id=\"T_d7075_row3_col3\" class=\"data row3 col3\" >0.451290</td>\n",
       "    </tr>\n",
       "  </tbody>\n",
       "</table>\n",
       "</div>\n",
       "    </div>\n",
       "    "
      ],
      "text/plain": [
       "<IPython.core.display.HTML object>"
      ]
     },
     "metadata": {},
     "output_type": "display_data"
    }
   ],
   "source": [
    "problemset_names = [\n",
    "    \"1000 1D gaussian\",\n",
    "    \"1100 1D gaussian\",\n",
    "    \"1200 1D gaussian\",\n",
    "    \"1500 1D gaussian\",\n",
    "]\n",
    "\n",
    "results = run_experiment(memory_suite, problemset_names, solvers)\n",
    "display_all_metrics(results, ['memory'])"
   ]
  }
 ],
 "metadata": {
  "kernelspec": {
   "display_name": "ml",
   "language": "python",
   "name": "python3"
  },
  "language_info": {
   "codemirror_mode": {
    "name": "ipython",
    "version": 3
   },
   "file_extension": ".py",
   "mimetype": "text/x-python",
   "name": "python",
   "nbconvert_exporter": "python",
   "pygments_lexer": "ipython3",
   "version": "3.12.3"
  }
 },
 "nbformat": 4,
 "nbformat_minor": 5
}
